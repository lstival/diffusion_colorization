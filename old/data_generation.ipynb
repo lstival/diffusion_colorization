{
 "cells": [
  {
   "cell_type": "code",
   "execution_count": 13,
   "metadata": {},
   "outputs": [],
   "source": [
    "import numpy as np\n",
    "import cv2\n",
    "import matplotlib.pyplot as plt\n",
    "import os\n",
    "import tqdm"
   ]
  },
  {
   "cell_type": "code",
   "execution_count": 15,
   "metadata": {},
   "outputs": [],
   "source": [
    "import glob\n",
    "import os.path\n",
    "\n",
    "dir = '.'\n",
    "# files = glob.glob(os.path.join(f\"videos/videvo/\", '*.mp4'))\n",
    "# files = glob.glob(os.path.join(f\"E:/Charades_v1_480/\", '*.mp4'))\n",
    "# root_path = r\"F:\\replacement_for_corrupted_k400\"\n",
    "# root_path = r\"F:\\kinetics\\train\"\n",
    "root_path = r\"F:\\kinectis_2\\kinetics400_5per\\kinetics400_5per\\train\"\n",
    "files = glob.glob(os.path.join(root_path, '*.mp4'))\n",
    "# print(len(files))"
   ]
  },
  {
   "cell_type": "code",
   "execution_count": 24,
   "metadata": {},
   "outputs": [
    {
     "name": "stderr",
     "output_type": "stream",
     "text": [
      "100%|██████████| 400/400 [30:02<00:00,  4.51s/it]\n"
     ]
    }
   ],
   "source": [
    "path = \"F:/data/train/kinetics_5per\"\n",
    "os.makedirs(path, exist_ok=True)\n",
    "\n",
    "for video_class in  tqdm.tqdm(os.listdir(root_path)):\n",
    "    files = glob.glob(os.path.join(root_path, video_class,'*.mp4'))\n",
    "    \n",
    "    for video in (files):\n",
    "        # video_name = video.split('\\\\')[1].split('.')[:-1][0]\n",
    "        video_name = video.split('\\\\')[-1]\n",
    "        vidcap = cv2.VideoCapture(f\"{video}\")\n",
    "        success,image = vidcap.read()\n",
    "        if success:\n",
    "            resized_img = cv2.resize(image, (256, 256))\n",
    "            count = 0\n",
    "            list_frames = []\n",
    "            # while success:\n",
    "            while count < 16:\n",
    "                save_frame_path = f\"{path}/{video_name}\"\n",
    "                os.makedirs(save_frame_path, exist_ok=True)\n",
    "                cv2.imwrite(f\"{save_frame_path}/{str(count).zfill(5)}.jpg\", resized_img)     # save frame as JPEG file      \n",
    "                success,image = vidcap.read()\n",
    "                if success:\n",
    "                    resized_img = cv2.resize(image, (256, 256))\n",
    "                    list_frames.append(resized_img)\n",
    "                #     print('Read a new frame: ', success)\n",
    "                count += 1\n",
    "        # print(\"Finsh\")"
   ]
  },
  {
   "cell_type": "code",
   "execution_count": 21,
   "metadata": {},
   "outputs": [],
   "source": [
    "image\n",
    "# if not os.path.exists(path):\n",
    "#     os.makedirs(path)"
   ]
  },
  {
   "cell_type": "code",
   "execution_count": 23,
   "metadata": {},
   "outputs": [
    {
     "data": {
      "text/plain": [
       "False"
      ]
     },
     "execution_count": 23,
     "metadata": {},
     "output_type": "execute_result"
    }
   ],
   "source": [
    "success"
   ]
  },
  {
   "cell_type": "code",
   "execution_count": null,
   "metadata": {},
   "outputs": [],
   "source": []
  }
 ],
 "metadata": {
  "kernelspec": {
   "display_name": "colorization",
   "language": "python",
   "name": "python3"
  },
  "language_info": {
   "codemirror_mode": {
    "name": "ipython",
    "version": 3
   },
   "file_extension": ".py",
   "mimetype": "text/x-python",
   "name": "python",
   "nbconvert_exporter": "python",
   "pygments_lexer": "ipython3",
   "version": "3.10.8"
  },
  "orig_nbformat": 4,
  "vscode": {
   "interpreter": {
    "hash": "d41b961cbd26925116fb03f693a2d8932e2e5b415613185632ea88c0bffdc3ec"
   }
  }
 },
 "nbformat": 4,
 "nbformat_minor": 2
}
